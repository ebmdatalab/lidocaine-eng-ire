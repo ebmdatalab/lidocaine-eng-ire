{
 "cells": [
  {
   "cell_type": "markdown",
   "metadata": {},
   "source": [
    "**Work in progress**"
   ]
  },
  {
   "cell_type": "markdown",
   "metadata": {},
   "source": [
    "I'm interested in prescribing of Lidocaine patches since 2015. Details of lidocaine plasters prescribing can be seen on [OpenPrescribing here](https://openprescribing.net/measure/lplidocaine/national/england/). Previous DataLab work on evaluation on the impact of NHS England guidance can be viewed [here in JRSM](https://journals.sagepub.com/doi/10.1177/0141076818808429)"
   ]
  },
  {
   "cell_type": "markdown",
   "metadata": {},
   "source": [
    "The following example notebooks for reference for re-using code snippets\n",
    "- https://github.com/ebmdatalab/lidocaine-change-detection-notebook/blob/master/notebooks/ccg-lidocaine-change.ipynb\n",
    "- https://github.com/ebmdatalab/jupyter-notebooks/blob/master/Dementia%20Prescribing/Dementia%20Prescribing.ipynb\n",
    "- https://github.com/ebmdatalab/jupyter-notebooks/blob/master/new_measures/Gabapentinoids/New%20Measure%20-%20Gabapentin%20and%20Pregabalin%20DDD.ipynb\n",
    "- https://github.com/ebmdatalab/cd-legislation-notebook/blob/master/notebooks/legislative.change.ipynb\n",
    "    "
   ]
  },
  {
   "cell_type": "markdown",
   "metadata": {},
   "source": [
    "## Data Extraction\n",
    "\n",
    "- Lidocaine here\n",
    "- See below for list size (add navigation later)"
   ]
  },
  {
   "cell_type": "code",
   "execution_count": 2,
   "metadata": {},
   "outputs": [],
   "source": [
    "#import libraries required for analysis\n",
    "import pandas as pd\n",
    "import matplotlib\n",
    "import matplotlib.pyplot as plt\n",
    "from ebmdatalab import bq, charts, maps\n",
    "import os"
   ]
  },
  {
   "cell_type": "code",
   "execution_count": 3,
   "metadata": {},
   "outputs": [],
   "source": [
    "## ensuring the format is consistent for pounds and pence\n",
    "pd.set_option('display.float_format', lambda x: '%.2f' % x)"
   ]
  },
  {
   "cell_type": "code",
   "execution_count": 4,
   "metadata": {},
   "outputs": [
    {
     "name": "stdout",
     "output_type": "stream",
     "text": [
      "Please visit this URL to authorize this application: https://accounts.google.com/o/oauth2/auth?response_type=code&client_id=725825577420-unm2gnkiprugilg743tkbig250f4sfsj.apps.googleusercontent.com&redirect_uri=urn%3Aietf%3Awg%3Aoauth%3A2.0%3Aoob&scope=https%3A%2F%2Fwww.googleapis.com%2Fauth%2Fbigquery&state=qHexadQuorfvlV0YboZEL8ajLwXm7L&prompt=consent&access_type=offline\n"
     ]
    },
    {
     "name": "stdin",
     "output_type": "stream",
     "text": [
      "Enter the authorization code:  4/1AX4XfWgL96Zt7PN9AwAT3WlNNChQVXAwNPGi2TSz98gTcCT9CDAjUVF4lq0\n"
     ]
    },
    {
     "name": "stderr",
     "output_type": "stream",
     "text": [
      "Downloading: 100%|██████████| 6360/6360 [00:00<00:00, 7815.47rows/s]\n"
     ]
    },
    {
     "data": {
      "text/html": [
       "<div>\n",
       "<style scoped>\n",
       "    .dataframe tbody tr th:only-of-type {\n",
       "        vertical-align: middle;\n",
       "    }\n",
       "\n",
       "    .dataframe tbody tr th {\n",
       "        vertical-align: top;\n",
       "    }\n",
       "\n",
       "    .dataframe thead th {\n",
       "        text-align: right;\n",
       "    }\n",
       "</style>\n",
       "<table border=\"1\" class=\"dataframe\">\n",
       "  <thead>\n",
       "    <tr style=\"text-align: right;\">\n",
       "      <th></th>\n",
       "      <th>month</th>\n",
       "      <th>pct</th>\n",
       "      <th>quantity_of_plasters</th>\n",
       "      <th>prescription_items</th>\n",
       "      <th>actual_cost</th>\n",
       "      <th>net_cost</th>\n",
       "    </tr>\n",
       "  </thead>\n",
       "  <tbody>\n",
       "    <tr>\n",
       "      <th>0</th>\n",
       "      <td>2015-12-01 00:00:00+00:00</td>\n",
       "      <td>06K</td>\n",
       "      <td>3005</td>\n",
       "      <td>97</td>\n",
       "      <td>6708.64</td>\n",
       "      <td>7252.05</td>\n",
       "    </tr>\n",
       "    <tr>\n",
       "      <th>1</th>\n",
       "      <td>2015-12-01 00:00:00+00:00</td>\n",
       "      <td>D9Y0V</td>\n",
       "      <td>18155</td>\n",
       "      <td>596</td>\n",
       "      <td>40531.10</td>\n",
       "      <td>43813.94</td>\n",
       "    </tr>\n",
       "    <tr>\n",
       "      <th>2</th>\n",
       "      <td>2016-07-01 00:00:00+00:00</td>\n",
       "      <td>05V</td>\n",
       "      <td>1440</td>\n",
       "      <td>48</td>\n",
       "      <td>3221.69</td>\n",
       "      <td>3475.19</td>\n",
       "    </tr>\n",
       "    <tr>\n",
       "      <th>3</th>\n",
       "      <td>2016-07-01 00:00:00+00:00</td>\n",
       "      <td>A3A8R</td>\n",
       "      <td>8580</td>\n",
       "      <td>299</td>\n",
       "      <td>19199.40</td>\n",
       "      <td>20706.48</td>\n",
       "    </tr>\n",
       "    <tr>\n",
       "      <th>4</th>\n",
       "      <td>2016-07-01 00:00:00+00:00</td>\n",
       "      <td>15C</td>\n",
       "      <td>3055</td>\n",
       "      <td>88</td>\n",
       "      <td>6835.06</td>\n",
       "      <td>7372.71</td>\n",
       "    </tr>\n",
       "    <tr>\n",
       "      <th>5</th>\n",
       "      <td>2016-05-01 00:00:00+00:00</td>\n",
       "      <td>91Q</td>\n",
       "      <td>17880</td>\n",
       "      <td>579</td>\n",
       "      <td>40032.67</td>\n",
       "      <td>43150.37</td>\n",
       "    </tr>\n",
       "    <tr>\n",
       "      <th>6</th>\n",
       "      <td>2016-05-01 00:00:00+00:00</td>\n",
       "      <td>D4U1Y</td>\n",
       "      <td>3305</td>\n",
       "      <td>106</td>\n",
       "      <td>7385.00</td>\n",
       "      <td>7976.06</td>\n",
       "    </tr>\n",
       "    <tr>\n",
       "      <th>7</th>\n",
       "      <td>2016-04-01 00:00:00+00:00</td>\n",
       "      <td>84H</td>\n",
       "      <td>26745</td>\n",
       "      <td>901</td>\n",
       "      <td>59760.98</td>\n",
       "      <td>64544.44</td>\n",
       "    </tr>\n",
       "    <tr>\n",
       "      <th>8</th>\n",
       "      <td>2016-04-01 00:00:00+00:00</td>\n",
       "      <td>03K</td>\n",
       "      <td>1110</td>\n",
       "      <td>33</td>\n",
       "      <td>2479.23</td>\n",
       "      <td>2678.80</td>\n",
       "    </tr>\n",
       "    <tr>\n",
       "      <th>9</th>\n",
       "      <td>2016-04-01 00:00:00+00:00</td>\n",
       "      <td>72Q</td>\n",
       "      <td>45235</td>\n",
       "      <td>1489</td>\n",
       "      <td>101079.04</td>\n",
       "      <td>109167.19</td>\n",
       "    </tr>\n",
       "  </tbody>\n",
       "</table>\n",
       "</div>"
      ],
      "text/plain": [
       "                      month    pct  quantity_of_plasters  prescription_items  \\\n",
       "0 2015-12-01 00:00:00+00:00    06K                  3005                  97   \n",
       "1 2015-12-01 00:00:00+00:00  D9Y0V                 18155                 596   \n",
       "2 2016-07-01 00:00:00+00:00    05V                  1440                  48   \n",
       "3 2016-07-01 00:00:00+00:00  A3A8R                  8580                 299   \n",
       "4 2016-07-01 00:00:00+00:00    15C                  3055                  88   \n",
       "5 2016-05-01 00:00:00+00:00    91Q                 17880                 579   \n",
       "6 2016-05-01 00:00:00+00:00  D4U1Y                  3305                 106   \n",
       "7 2016-04-01 00:00:00+00:00    84H                 26745                 901   \n",
       "8 2016-04-01 00:00:00+00:00    03K                  1110                  33   \n",
       "9 2016-04-01 00:00:00+00:00    72Q                 45235                1489   \n",
       "\n",
       "   actual_cost  net_cost  \n",
       "0      6708.64   7252.05  \n",
       "1     40531.10  43813.94  \n",
       "2      3221.69   3475.19  \n",
       "3     19199.40  20706.48  \n",
       "4      6835.06   7372.71  \n",
       "5     40032.67  43150.37  \n",
       "6      7385.00   7976.06  \n",
       "7     59760.98  64544.44  \n",
       "8      2479.23   2678.80  \n",
       "9    101079.04 109167.19  "
      ]
     },
     "execution_count": 4,
     "metadata": {},
     "output_type": "execute_result"
    }
   ],
   "source": [
    "## here we will extract all prescribing of Lidocaine patches by ccg (prev named pct)\n",
    "sql= '''\n",
    "SELECT\n",
    "month,\n",
    "  pct,\n",
    "  SUM(quantity) AS quantity_of_plasters,\n",
    "  SUM(items) AS prescription_items,\n",
    "  SUM(actual_cost) AS actual_cost,\n",
    "  SUM(net_cost) AS net_cost\n",
    "FROM\n",
    "  ebmdatalab.hscic.normalised_prescribing_standard AS rx\n",
    "  INNER JOIN hscic.ccgs AS ccg ON rx.pct = ccg.code \n",
    "WHERE\n",
    "  bnf_code LIKE \"1502010J0%EL\" # brand and Lidocaine patches\n",
    "  AND month >= \"2015-01-01\"\n",
    "  AND ccg.org_type = 'CCG' #restrict to only ccg orgs i.e. exclude OOH etc\n",
    "GROUP BY\n",
    "   month,\n",
    "   pct\n",
    " '''\n",
    "\n",
    "df_lidocaine = bq.cached_read(sql, csv_path=os.path.join('..', 'data','lidocaine.csv'))\n",
    "df_lidocaine.head(10)"
   ]
  },
  {
   "cell_type": "markdown",
   "metadata": {},
   "source": [
    "## Charts\n",
    "Here we will draw some charts to ilustrate national patterns"
   ]
  },
  {
   "cell_type": "code",
   "execution_count": 5,
   "metadata": {},
   "outputs": [
    {
     "data": {
      "text/plain": [
       "(0, 800000)"
      ]
     },
     "execution_count": 5,
     "metadata": {},
     "output_type": "execute_result"
    },
    {
     "data": {
      "image/png": "[encoded data removed]",
      "text/plain": [
       "<Figure size 432x288 with 1 Axes>"
      ]
     },
     "metadata": {
      "needs_background": "light"
     },
     "output_type": "display_data"
    }
   ],
   "source": [
    "# total number of patches\n",
    "ax = df_lidocaine.groupby([\"month\"])['quantity_of_plasters'].sum().plot(kind='line', title=\"Total Lidocaine Patches\")\n",
    "ax.axvline(pd.to_datetime('2017-07-01'), color='black', linestyle='--', lw=2) ##policy announced\n",
    "ax.axvline(pd.to_datetime('2017-11-01'), color='black', linestyle='--', lw=2) ##consultation implemented\n",
    "plt.ylim(0, 800000)"
   ]
  },
  {
   "cell_type": "code",
   "execution_count": 6,
   "metadata": {},
   "outputs": [
    {
     "data": {
      "text/plain": [
       "(0, 1635934.2611649998)"
      ]
     },
     "execution_count": 6,
     "metadata": {},
     "output_type": "execute_result"
    },
    {
     "data": {
      "image/png": "[encoded data removed]",
      "text/plain": [
       "<Figure size 432x288 with 1 Axes>"
      ]
     },
     "metadata": {
      "needs_background": "light"
     },
     "output_type": "display_data"
    }
   ],
   "source": [
    "# total actual cost\n",
    "ax = df_lidocaine.groupby([\"month\"])['actual_cost'].sum().plot(kind='line', title=\"Total Lidocaine Actual Cost\")\n",
    "ax.axvline(pd.to_datetime('2017-07-01'), color='black', linestyle='--', lw=2) ##policy announced\n",
    "ax.axvline(pd.to_datetime('2017-11-01'), color='black', linestyle='--', lw=2) ##consultation implemented\n",
    "plt.ylim(0, )"
   ]
  },
  {
   "cell_type": "code",
   "execution_count": 7,
   "metadata": {},
   "outputs": [],
   "source": [
    "# total net cost"
   ]
  },
  {
   "cell_type": "code",
   "execution_count": null,
   "metadata": {},
   "outputs": [],
   "source": [
    "ax = df_lidocaine.groupby([\"month\"])['net_cost'].sum().plot(kind='line', title=\"Total Lidocaine Net Cost\")\n",
    "ax.axvline(pd.to_datetime('2017-07-01'), color='black', linestyle='--', lw=2) ##policy announced\n",
    "ax.axvline(pd.to_datetime('2017-11-01'), color='black', linestyle='--', lw=2) ##consultation implemented\n",
    "plt.ylim(0, )"
   ]
  },
  {
   "cell_type": "code",
   "execution_count": null,
   "metadata": {
    "lines_to_next_cell": 2
   },
   "outputs": [],
   "source": []
  }
 ],
 "metadata": {
  "jupytext": {
   "cell_metadata_filter": "all",
   "notebook_metadata_filter": "all,-language_info",
   "text_representation": {
    "extension": ".py",
    "format_name": "light",
    "format_version": "1.5",
    "jupytext_version": "1.3.3"
   }
  },
  "kernelspec": {
   "display_name": "Python 3",
   "language": "python",
   "name": "python3"
  },
  "language_info": {
   "codemirror_mode": {
    "name": "ipython",
    "version": 3
   },
   "file_extension": ".py",
   "mimetype": "text/x-python",
   "name": "python",
   "nbconvert_exporter": "python",
   "pygments_lexer": "ipython3",
   "version": "3.8.1"
  }
 },
 "nbformat": 4,
 "nbformat_minor": 4
}

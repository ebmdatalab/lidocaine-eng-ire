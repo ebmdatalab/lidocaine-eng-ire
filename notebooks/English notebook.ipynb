{
 "cells": [
  {
   "cell_type": "markdown",
   "metadata": {},
   "source": [
    "**Work in progress**"
   ]
  },
  {
   "cell_type": "markdown",
   "metadata": {},
   "source": [
    "I'm interested in prescribing of Lidocaine patches since 2015. Details of lidocaine plasters prescribing can be seen on [OpenPrescribing here](https://openprescribing.net/measure/lplidocaine/national/england/). Previous DataLab work on evaluation on the impact of NHS England guidance can be viewed [here in JRSM](https://journals.sagepub.com/doi/10.1177/0141076818808429)"
   ]
  },
  {
   "cell_type": "markdown",
   "metadata": {},
   "source": [
    "The following example notebooks for reference for re-using code snippets\n",
    "- https://github.com/ebmdatalab/lidocaine-change-detection-notebook/blob/master/notebooks/ccg-lidocaine-change.ipynb\n",
    "- https://github.com/ebmdatalab/jupyter-notebooks/blob/master/Dementia%20Prescribing/Dementia%20Prescribing.ipynb\n",
    "- https://github.com/ebmdatalab/jupyter-notebooks/blob/master/new_measures/Gabapentinoids/New%20Measure%20-%20Gabapentin%20and%20Pregabalin%20DDD.ipynb\n",
    "- https://github.com/ebmdatalab/cd-legislation-notebook/blob/master/notebooks/legislative.change.ipynb\n",
    "    "
   ]
  },
  {
   "cell_type": "markdown",
   "metadata": {},
   "source": [
    "## Data Extraction\n",
    "\n",
    "- Lidocaine here\n",
    "- See below for list size (add navigation later)"
   ]
  },
  {
   "cell_type": "code",
   "execution_count": 1,
   "metadata": {},
   "outputs": [],
   "source": [
    "#import libraries required for analysis\n",
    "import pandas as pd\n",
    "import matplotlib\n",
    "import matplotlib.pyplot as plt\n",
    "from ebmdatalab import bq, charts, maps\n",
    "import os"
   ]
  },
  {
   "cell_type": "code",
   "execution_count": null,
   "metadata": {},
   "outputs": [],
   "source": [
    "## ensuring the format is consistent for pounds and pence\n",
    "pd.set_option('display.float_format', lambda x: '%.2f' % x)"
   ]
  },
  {
   "cell_type": "code",
   "execution_count": 4,
   "metadata": {},
   "outputs": [
    {
     "name": "stdout",
     "output_type": "stream",
     "text": [
      "Please visit this URL to authorize this application: https://accounts.google.com/o/oauth2/auth?response_type=code&client_id=725825577420-unm2gnkiprugilg743tkbig250f4sfsj.apps.googleusercontent.com&redirect_uri=urn%3Aietf%3Awg%3Aoauth%3A2.0%3Aoob&scope=https%3A%2F%2Fwww.googleapis.com%2Fauth%2Fbigquery&state=AFNB6Adhas3K04zAOpy9O6LY35Bper&prompt=consent&access_type=offline\n"
     ]
    },
    {
     "name": "stdin",
     "output_type": "stream",
     "text": [
      "Enter the authorization code:  4/1AX4XfWi25TzU-Wzeo2lQpNGmxGFbMPOat69y9x5nFTJ2h_73zkChCYPXOh0\n"
     ]
    },
    {
     "name": "stderr",
     "output_type": "stream",
     "text": [
      "Downloading: 100%|██████████| 6360/6360 [00:00<00:00, 8110.64rows/s]\n"
     ]
    },
    {
     "data": {
      "text/html": [
       "<div>\n",
       "<style scoped>\n",
       "    .dataframe tbody tr th:only-of-type {\n",
       "        vertical-align: middle;\n",
       "    }\n",
       "\n",
       "    .dataframe tbody tr th {\n",
       "        vertical-align: top;\n",
       "    }\n",
       "\n",
       "    .dataframe thead th {\n",
       "        text-align: right;\n",
       "    }\n",
       "</style>\n",
       "<table border=\"1\" class=\"dataframe\">\n",
       "  <thead>\n",
       "    <tr style=\"text-align: right;\">\n",
       "      <th></th>\n",
       "      <th>month</th>\n",
       "      <th>pct</th>\n",
       "      <th>quantity_of_plasters</th>\n",
       "      <th>rx_items</th>\n",
       "      <th>actual_cost</th>\n",
       "      <th>net_cost</th>\n",
       "    </tr>\n",
       "  </thead>\n",
       "  <tbody>\n",
       "    <tr>\n",
       "      <th>0</th>\n",
       "      <td>2016-09-01</td>\n",
       "      <td>W2U3Z</td>\n",
       "      <td>40850</td>\n",
       "      <td>1266</td>\n",
       "      <td>91378.14</td>\n",
       "      <td>98584.52</td>\n",
       "    </tr>\n",
       "    <tr>\n",
       "      <th>1</th>\n",
       "      <td>2015-02-01</td>\n",
       "      <td>D2P2L</td>\n",
       "      <td>6065</td>\n",
       "      <td>206</td>\n",
       "      <td>13546.21</td>\n",
       "      <td>14636.78</td>\n",
       "    </tr>\n",
       "    <tr>\n",
       "      <th>2</th>\n",
       "      <td>2015-08-01</td>\n",
       "      <td>B2M3M</td>\n",
       "      <td>2920</td>\n",
       "      <td>110</td>\n",
       "      <td>6518.66</td>\n",
       "      <td>7046.88</td>\n",
       "    </tr>\n",
       "    <tr>\n",
       "      <th>3</th>\n",
       "      <td>2015-06-01</td>\n",
       "      <td>70F</td>\n",
       "      <td>9260</td>\n",
       "      <td>287</td>\n",
       "      <td>21388.25</td>\n",
       "      <td>23107.68</td>\n",
       "    </tr>\n",
       "    <tr>\n",
       "      <th>4</th>\n",
       "      <td>2015-09-01</td>\n",
       "      <td>01W</td>\n",
       "      <td>1225</td>\n",
       "      <td>37</td>\n",
       "      <td>3540.33</td>\n",
       "      <td>3825.12</td>\n",
       "    </tr>\n",
       "    <tr>\n",
       "      <th>5</th>\n",
       "      <td>2015-09-01</td>\n",
       "      <td>02P</td>\n",
       "      <td>1825</td>\n",
       "      <td>60</td>\n",
       "      <td>4077.00</td>\n",
       "      <td>4404.32</td>\n",
       "    </tr>\n",
       "    <tr>\n",
       "      <th>6</th>\n",
       "      <td>2016-01-01</td>\n",
       "      <td>10Q</td>\n",
       "      <td>4885</td>\n",
       "      <td>161</td>\n",
       "      <td>10892.43</td>\n",
       "      <td>11789.17</td>\n",
       "    </tr>\n",
       "    <tr>\n",
       "      <th>7</th>\n",
       "      <td>2015-07-01</td>\n",
       "      <td>13T</td>\n",
       "      <td>5255</td>\n",
       "      <td>170</td>\n",
       "      <td>11733.14</td>\n",
       "      <td>12682.07</td>\n",
       "    </tr>\n",
       "    <tr>\n",
       "      <th>8</th>\n",
       "      <td>2015-01-01</td>\n",
       "      <td>26A</td>\n",
       "      <td>2800</td>\n",
       "      <td>85</td>\n",
       "      <td>6238.63</td>\n",
       "      <td>6757.31</td>\n",
       "    </tr>\n",
       "    <tr>\n",
       "      <th>9</th>\n",
       "      <td>2015-05-01</td>\n",
       "      <td>72Q</td>\n",
       "      <td>32610</td>\n",
       "      <td>1055</td>\n",
       "      <td>81846.38</td>\n",
       "      <td>88450.06</td>\n",
       "    </tr>\n",
       "  </tbody>\n",
       "</table>\n",
       "</div>"
      ],
      "text/plain": [
       "       month    pct  quantity_of_plasters  rx_items  actual_cost  net_cost\n",
       "0 2016-09-01  W2U3Z                 40850      1266     91378.14  98584.52\n",
       "1 2015-02-01  D2P2L                  6065       206     13546.21  14636.78\n",
       "2 2015-08-01  B2M3M                  2920       110      6518.66   7046.88\n",
       "3 2015-06-01    70F                  9260       287     21388.25  23107.68\n",
       "4 2015-09-01    01W                  1225        37      3540.33   3825.12\n",
       "5 2015-09-01    02P                  1825        60      4077.00   4404.32\n",
       "6 2016-01-01    10Q                  4885       161     10892.43  11789.17\n",
       "7 2015-07-01    13T                  5255       170     11733.14  12682.07\n",
       "8 2015-01-01    26A                  2800        85      6238.63   6757.31\n",
       "9 2015-05-01    72Q                 32610      1055     81846.38  88450.06"
      ]
     },
     "execution_count": 4,
     "metadata": {},
     "output_type": "execute_result"
    }
   ],
   "source": [
    "## here we will extract all prescribing of Lidocaine patches by ccg (prev named pct)\n",
    "sql= '''\n",
    "SELECT\n",
    "DATE(month) AS month,\n",
    "  pct,\n",
    "  SUM(quantity) AS quantity_of_plasters,\n",
    "  SUM(items) AS rx_items,\n",
    "  SUM(actual_cost) AS actual_cost,\n",
    "  SUM(net_cost) AS net_cost\n",
    "FROM\n",
    "  ebmdatalab.hscic.normalised_prescribing_standard AS rx\n",
    "  INNER JOIN hscic.ccgs AS ccg ON rx.pct = ccg.code \n",
    "WHERE\n",
    "  bnf_code LIKE \"1502010J0%EL\" # brand and Lidocaine patches\n",
    "  AND month >= \"2015-01-01\"\n",
    "  AND ccg.org_type = 'CCG' #restrict to only ccg orgs i.e. exclude OOH etc\n",
    "GROUP BY\n",
    "   month,\n",
    "   pct\n",
    " '''\n",
    "\n",
    "df_lidocaine = bq.cached_read(sql, csv_path=os.path.join('..', 'data','lidocaine.csv'), use_cache=False)\n",
    "df_lidocaine['month'] = df_lidocaine['month'].astype('datetime64[ns]')\n",
    "df_lidocaine.head(10)"
   ]
  },
  {
   "cell_type": "markdown",
   "metadata": {},
   "source": [
    "## Charts\n",
    "Here we will draw some charts to ilustrate national patterns"
   ]
  },
  {
   "cell_type": "code",
   "execution_count": null,
   "metadata": {},
   "outputs": [],
   "source": [
    "# total number of patches\n",
    "ax = df_lidocaine.groupby([\"month\"])['quantity_of_plasters'].sum().plot(kind='line', title=\"Total Lidocaine Patches\")\n",
    "ax.axvline(pd.to_datetime('2017-07-01'), color='black', linestyle='--', lw=2) ##policy announced\n",
    "ax.axvline(pd.to_datetime('2017-11-01'), color='black', linestyle='--', lw=2) ##consultation implemented\n",
    "plt.ylim(0, 800000)"
   ]
  },
  {
   "cell_type": "code",
   "execution_count": null,
   "metadata": {},
   "outputs": [],
   "source": [
    "# total actual cost\n",
    "ax = df_lidocaine.groupby([\"month\"])['actual_cost'].sum().plot(kind='line', title=\"Total Lidocaine Actual Cost\")\n",
    "ax.axvline(pd.to_datetime('2017-07-01'), color='black', linestyle='--', lw=2) ##policy announced\n",
    "ax.axvline(pd.to_datetime('2017-11-01'), color='black', linestyle='--', lw=2) ##consultation implemented\n",
    "plt.ylim(0, )"
   ]
  },
  {
   "cell_type": "code",
   "execution_count": null,
   "metadata": {},
   "outputs": [],
   "source": [
    "# total net cost"
   ]
  },
  {
   "cell_type": "code",
   "execution_count": null,
   "metadata": {},
   "outputs": [],
   "source": [
    "ax = df_lidocaine.groupby([\"month\"])['net_cost'].sum().plot(kind='line', title=\"Total Lidocaine Net Cost\")\n",
    "ax.axvline(pd.to_datetime('2017-07-01'), color='black', linestyle='--', lw=2) ##policy announced\n",
    "ax.axvline(pd.to_datetime('2017-11-01'), color='black', linestyle='--', lw=2) ##consultation implemented\n",
    "plt.ylim(0, )"
   ]
  },
  {
   "cell_type": "code",
   "execution_count": null,
   "metadata": {},
   "outputs": [],
   "source": [
    "## add list size"
   ]
  },
  {
   "cell_type": "code",
   "execution_count": null,
   "metadata": {},
   "outputs": [],
   "source": [
    "# get data for patient list size (all patients)\n",
    "sql2 = \"\"\"\n",
    "SELECT \n",
    "DATE(month) AS month, \n",
    "pct_id AS pct, \n",
    "sum(total_list_size) as list_size\n",
    "FROM ebmdatalab.hscic.practice_statistics\n",
    "group by \n",
    "month, pct\n",
    "order by\n",
    "month, pct\n",
    "\"\"\"\n",
    "listsize_df = bq.cached_read(sql2, csv_path=os.path.join('..', 'data''list_size.csv'))\n",
    "listsize_df['month'] = listsize_df['month'].astype('datetime64[ns]')\n",
    "listsize_df.head()"
   ]
  },
  {
   "cell_type": "code",
   "execution_count": null,
   "metadata": {},
   "outputs": [],
   "source": [
    "#Merge data into single dataframe\n",
    "\n",
    "##df_qty=df_lidocaine.groupby([\"month\", \"pct\"])['quantity_of_plasters'].sum().to_frame(name = 'quantity_of_plasters').reset_index()\n",
    "##df_qty.head()\n",
    "#plot data on graph\n",
    "#gaba_df.groupby([\"month\"])['pregab_mg'].sum().plot(kind='line', title=\"Total pregabalin mg eq prescribing of gabape"
   ]
  },
  {
   "cell_type": "code",
   "execution_count": null,
   "metadata": {},
   "outputs": [],
   "source": [
    "#merge dataframes\n",
    "#per_1000_df = pd.merge(df_qty, listsize_df, on=['month', 'pct'])\n",
    "#per_1000_df['plasters_per_1000'] = 1000* (per_1000_df['quantity_of_plasters']/per_1000_df['list_size'])\n",
    "#per_1000_df.head()"
   ]
  },
  {
   "cell_type": "code",
   "execution_count": null,
   "metadata": {},
   "outputs": [],
   "source": [
    "lidocaine_and_listsize = pd.merge(df_lidocaine, listsize_df, on=['month', 'pct'])\n",
    "lidocaine_and_listsize['plasters_per_1000'] = 1000* (lidocaine_and_listsize['quantity_of_plasters']/lidocaine_and_listsize['list_size'])\n",
    "lidocaine_and_listsize['items_per_1000'] = 1000* (lidocaine_and_listsize['rx_items']/lidocaine_and_listsize['list_size'])\n",
    "lidocaine_and_listsize['actual_cost_per_1000'] = 1000* (lidocaine_and_listsize['actual_cost']/lidocaine_and_listsize['list_size'])\n",
    "lidocaine_and_listsize['net_cost_per_1000'] = 1000* (lidocaine_and_listsize['net_cost']/lidocaine_and_listsize['list_size'])\n",
    "lidocaine_and_listsize.head()"
   ]
  },
  {
   "cell_type": "code",
   "execution_count": null,
   "metadata": {
    "lines_to_next_cell": 2
   },
   "outputs": [],
   "source": [
    "#plot deciles \n",
    "charts.deciles_chart(\n",
    "        lidocaine_and_listsize,\n",
    "        period_column='month',\n",
    "        column= 'plasters_per_1000',\n",
    "        title=\"CCGs - Plasters per 1000 people\",\n",
    "        show_outer_percentiles=True)\n",
    "plt.show()"
   ]
  },
  {
   "cell_type": "code",
   "execution_count": null,
   "metadata": {},
   "outputs": [],
   "source": [
    "#plot deciles \n",
    "charts.deciles_chart(\n",
    "        lidocaine_and_listsize,\n",
    "        period_column='month',\n",
    "        column= 'actual_cost_per_1000',\n",
    "        title=\"CCGs - Actual cost of Plasters per 1000 people\",\n",
    "        show_outer_percentiles=True)\n",
    "plt.show()"
   ]
  },
  {
   "cell_type": "code",
   "execution_count": null,
   "metadata": {},
   "outputs": [],
   "source": []
  }
 ],
 "metadata": {
  "jupytext": {
   "cell_metadata_filter": "all",
   "notebook_metadata_filter": "all,-language_info",
   "text_representation": {
    "extension": ".py",
    "format_name": "light",
    "format_version": "1.5",
    "jupytext_version": "1.3.3"
   }
  },
  "kernelspec": {
   "display_name": "Python 3",
   "language": "python",
   "name": "python3"
  },
  "language_info": {
   "codemirror_mode": {
    "name": "ipython",
    "version": 3
   },
   "file_extension": ".py",
   "mimetype": "text/x-python",
   "name": "python",
   "nbconvert_exporter": "python",
   "pygments_lexer": "ipython3",
   "version": "3.8.1"
  }
 },
 "nbformat": 4,
 "nbformat_minor": 4
}

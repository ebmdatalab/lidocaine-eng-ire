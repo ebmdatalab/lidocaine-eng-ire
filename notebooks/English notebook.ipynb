{
 "cells": [
  {
   "cell_type": "markdown",
   "metadata": {},
   "source": [
    "**Work in progress**"
   ]
  },
  {
   "cell_type": "markdown",
   "metadata": {},
   "source": [
    "I'm interested in prescribing of Lidocaine patches since 2015. Details of lidocaine plasters prescribing can be seen on [OpenPrescribing here](https://openprescribing.net/measure/lplidocaine/national/england/). Previous DataLab work on evaluation on the impact of NHS England guidance can be viewed [here in JRSM](https://journals.sagepub.com/doi/10.1177/0141076818808429)"
   ]
  },
  {
   "cell_type": "markdown",
   "metadata": {},
   "source": [
    "The following example notebooks for reference for re-using code snippets\n",
    "- https://github.com/ebmdatalab/lidocaine-change-detection-notebook/blob/master/notebooks/ccg-lidocaine-change.ipynb\n",
    "- https://github.com/ebmdatalab/jupyter-notebooks/blob/master/Dementia%20Prescribing/Dementia%20Prescribing.ipynb\n",
    "- https://github.com/ebmdatalab/jupyter-notebooks/blob/master/new_measures/Gabapentinoids/New%20Measure%20-%20Gabapentin%20and%20Pregabalin%20DDD.ipynb\n",
    "- https://github.com/ebmdatalab/cd-legislation-notebook/blob/master/notebooks/legislative.change.ipynb\n",
    "    "
   ]
  },
  {
   "cell_type": "markdown",
   "metadata": {},
   "source": [
    "## Data Extraction\n",
    "\n",
    "- Lidocaine here\n",
    "- See below for list size (add navigation later)"
   ]
  },
  {
   "cell_type": "code",
   "execution_count": 1,
   "metadata": {},
   "outputs": [],
   "source": [
    "#import libraries required for analysis\n",
    "import pandas as pd\n",
    "import matplotlib\n",
    "import matplotlib.pyplot as plt\n",
    "from ebmdatalab import bq, charts, maps\n",
    "import os"
   ]
  },
  {
   "cell_type": "code",
   "execution_count": 2,
   "metadata": {},
   "outputs": [],
   "source": [
    "## ensuring the format is consistent for pounds and pence\n",
    "pd.set_option('display.float_format', lambda x: '%.2f' % x)"
   ]
  },
  {
   "cell_type": "code",
   "execution_count": 4,
   "metadata": {},
   "outputs": [
    {
     "name": "stderr",
     "output_type": "stream",
     "text": [
      "Downloading: 100%|██████████| 7295/7295 [00:00<00:00, 11945.92rows/s]\n"
     ]
    },
    {
     "data": {
      "text/html": [
       "<div>\n",
       "<style scoped>\n",
       "    .dataframe tbody tr th:only-of-type {\n",
       "        vertical-align: middle;\n",
       "    }\n",
       "\n",
       "    .dataframe tbody tr th {\n",
       "        vertical-align: top;\n",
       "    }\n",
       "\n",
       "    .dataframe thead th {\n",
       "        text-align: right;\n",
       "    }\n",
       "</style>\n",
       "<table border=\"1\" class=\"dataframe\">\n",
       "  <thead>\n",
       "    <tr style=\"text-align: right;\">\n",
       "      <th></th>\n",
       "      <th>month</th>\n",
       "      <th>pct</th>\n",
       "      <th>quantity_of_plasters</th>\n",
       "      <th>actual_cost</th>\n",
       "      <th>net_cost</th>\n",
       "    </tr>\n",
       "  </thead>\n",
       "  <tbody>\n",
       "    <tr>\n",
       "      <th>0</th>\n",
       "      <td>2016-09-01 00:00:00+00:00</td>\n",
       "      <td>02P</td>\n",
       "      <td>2535</td>\n",
       "      <td>5669.99</td>\n",
       "      <td>6117.78</td>\n",
       "    </tr>\n",
       "    <tr>\n",
       "      <th>1</th>\n",
       "      <td>2016-09-01 00:00:00+00:00</td>\n",
       "      <td>06T</td>\n",
       "      <td>4750</td>\n",
       "      <td>10624.17</td>\n",
       "      <td>11463.32</td>\n",
       "    </tr>\n",
       "    <tr>\n",
       "      <th>2</th>\n",
       "      <td>2016-09-01 00:00:00+00:00</td>\n",
       "      <td>D4U1Y</td>\n",
       "      <td>3660</td>\n",
       "      <td>8186.91</td>\n",
       "      <td>8832.81</td>\n",
       "    </tr>\n",
       "    <tr>\n",
       "      <th>3</th>\n",
       "      <td>2015-03-01 00:00:00+00:00</td>\n",
       "      <td>D4U1Y</td>\n",
       "      <td>3130</td>\n",
       "      <td>7285.78</td>\n",
       "      <td>7866.83</td>\n",
       "    </tr>\n",
       "    <tr>\n",
       "      <th>4</th>\n",
       "      <td>2015-05-01 00:00:00+00:00</td>\n",
       "      <td>93C</td>\n",
       "      <td>5185</td>\n",
       "      <td>13143.69</td>\n",
       "      <td>14206.90</td>\n",
       "    </tr>\n",
       "    <tr>\n",
       "      <th>5</th>\n",
       "      <td>2015-10-01 00:00:00+00:00</td>\n",
       "      <td>00V</td>\n",
       "      <td>1530</td>\n",
       "      <td>3415.67</td>\n",
       "      <td>3692.38</td>\n",
       "    </tr>\n",
       "    <tr>\n",
       "      <th>6</th>\n",
       "      <td>2015-02-01 00:00:00+00:00</td>\n",
       "      <td>09D</td>\n",
       "      <td>2945</td>\n",
       "      <td>6712.14</td>\n",
       "      <td>7252.03</td>\n",
       "    </tr>\n",
       "    <tr>\n",
       "      <th>7</th>\n",
       "      <td>2015-09-01 00:00:00+00:00</td>\n",
       "      <td>36L</td>\n",
       "      <td>19890</td>\n",
       "      <td>52183.34</td>\n",
       "      <td>56330.85</td>\n",
       "    </tr>\n",
       "    <tr>\n",
       "      <th>8</th>\n",
       "      <td>2015-03-01 00:00:00+00:00</td>\n",
       "      <td>15E</td>\n",
       "      <td>9395</td>\n",
       "      <td>21000.92</td>\n",
       "      <td>22673.22</td>\n",
       "    </tr>\n",
       "    <tr>\n",
       "      <th>9</th>\n",
       "      <td>2015-03-01 00:00:00+00:00</td>\n",
       "      <td>99A</td>\n",
       "      <td>20400</td>\n",
       "      <td>46005.41</td>\n",
       "      <td>49666.30</td>\n",
       "    </tr>\n",
       "  </tbody>\n",
       "</table>\n",
       "</div>"
      ],
      "text/plain": [
       "                      month    pct  quantity_of_plasters  actual_cost  \\\n",
       "0 2016-09-01 00:00:00+00:00    02P                  2535      5669.99   \n",
       "1 2016-09-01 00:00:00+00:00    06T                  4750     10624.17   \n",
       "2 2016-09-01 00:00:00+00:00  D4U1Y                  3660      8186.91   \n",
       "3 2015-03-01 00:00:00+00:00  D4U1Y                  3130      7285.78   \n",
       "4 2015-05-01 00:00:00+00:00    93C                  5185     13143.69   \n",
       "5 2015-10-01 00:00:00+00:00    00V                  1530      3415.67   \n",
       "6 2015-02-01 00:00:00+00:00    09D                  2945      6712.14   \n",
       "7 2015-09-01 00:00:00+00:00    36L                 19890     52183.34   \n",
       "8 2015-03-01 00:00:00+00:00    15E                  9395     21000.92   \n",
       "9 2015-03-01 00:00:00+00:00    99A                 20400     46005.41   \n",
       "\n",
       "   net_cost  \n",
       "0   6117.78  \n",
       "1  11463.32  \n",
       "2   8832.81  \n",
       "3   7866.83  \n",
       "4  14206.90  \n",
       "5   3692.38  \n",
       "6   7252.03  \n",
       "7  56330.85  \n",
       "8  22673.22  \n",
       "9  49666.30  "
      ]
     },
     "execution_count": 4,
     "metadata": {},
     "output_type": "execute_result"
    }
   ],
   "source": [
    "## here we will extract all prescribing of Lidocaine patches by ccg (prev named pct)\n",
    "sql= '''\n",
    "SELECT\n",
    "month,\n",
    "  pct,\n",
    "  SUM(quantity) AS quantity_of_plasters,\n",
    "  SUM(actual_cost) AS actual_cost,\n",
    "  SUM(net_cost) AS net_cost\n",
    "FROM\n",
    "  ebmdatalab.hscic.normalised_prescribing_standard AS presc\n",
    "WHERE\n",
    "  bnf_code LIKE \"1502010J0%EL\" # brand and Lidocaine patches\n",
    "  AND month >= \"2015-01-01\"\n",
    "GROUP BY\n",
    "   month,\n",
    "   pct\n",
    " '''\n",
    "\n",
    "df_lidocaine = bq.cached_read(sql, csv_path=os.path.join('..', 'data','lidocaine.csv'))\n",
    "df_lidocaine.head(10)"
   ]
  },
  {
   "cell_type": "markdown",
   "metadata": {},
   "source": [
    "## Charts\n",
    "Here we will draw some charts to ilustrate national patterns"
   ]
  },
  {
   "cell_type": "code",
   "execution_count": 5,
   "metadata": {},
   "outputs": [
    {
     "data": {
      "text/plain": [
       "(0, 800000)"
      ]
     },
     "execution_count": 5,
     "metadata": {},
     "output_type": "execute_result"
    },
    {
     "data": {
      "image/png": "[encoded data removed]",
      "text/plain": [
       "<Figure size 432x288 with 1 Axes>"
      ]
     },
     "metadata": {
      "needs_background": "light"
     },
     "output_type": "display_data"
    }
   ],
   "source": [
    "# total number of patches\n",
    "ax = df_lidocaine.groupby([\"month\"])['quantity_of_plasters'].sum().plot(kind='line', title=\"Total Lidocaine Patches\")\n",
    "ax.axvline(pd.to_datetime('2017-07-01'), color='black', linestyle='--', lw=2) ##policy announced\n",
    "ax.axvline(pd.to_datetime('2017-11-01'), color='black', linestyle='--', lw=2) ##consultation implemented\n",
    "plt.ylim(0, 800000)"
   ]
  },
  {
   "cell_type": "code",
   "execution_count": 10,
   "metadata": {},
   "outputs": [
    {
     "data": {
      "text/plain": [
       "(0, 1637867.4891009997)"
      ]
     },
     "execution_count": 10,
     "metadata": {},
     "output_type": "execute_result"
    },
    {
     "data": {
      "image/png": "[encoded data removed]",
      "text/plain": [
       "<Figure size 432x288 with 1 Axes>"
      ]
     },
     "metadata": {
      "needs_background": "light"
     },
     "output_type": "display_data"
    }
   ],
   "source": [
    "# total actual cost\n",
    "ax = df_lidocaine.groupby([\"month\"])['actual_cost'].sum().plot(kind='line', title=\"Total Lidocaine Actual Cost\")\n",
    "ax.axvline(pd.to_datetime('2017-07-01'), color='black', linestyle='--', lw=2) ##policy announced\n",
    "ax.axvline(pd.to_datetime('2017-11-01'), color='black', linestyle='--', lw=2) ##consultation implemented\n",
    "plt.ylim(0, )"
   ]
  },
  {
   "cell_type": "code",
   "execution_count": 7,
   "metadata": {},
   "outputs": [],
   "source": [
    "# total net cost"
   ]
  },
  {
   "cell_type": "code",
   "execution_count": 9,
   "metadata": {},
   "outputs": [
    {
     "data": {
      "text/plain": [
       "(0, 1765533.1594999994)"
      ]
     },
     "execution_count": 9,
     "metadata": {},
     "output_type": "execute_result"
    },
    {
     "data": {
      "image/png": "[encoded data removed]",
      "text/plain": [
       "<Figure size 432x288 with 1 Axes>"
      ]
     },
     "metadata": {
      "needs_background": "light"
     },
     "output_type": "display_data"
    }
   ],
   "source": [
    "ax = df_lidocaine.groupby([\"month\"])['net_cost'].sum().plot(kind='line', title=\"Total Lidocaine Net Cost\")\n",
    "ax.axvline(pd.to_datetime('2017-07-01'), color='black', linestyle='--', lw=2) ##policy announced\n",
    "ax.axvline(pd.to_datetime('2017-11-01'), color='black', linestyle='--', lw=2) ##consultation implemented\n",
    "plt.ylim(0, )"
   ]
  },
  {
   "cell_type": "markdown",
   "metadata": {},
   "source": [
    "## Listsize Information\n",
    "\n"
   ]
  },
  {
   "cell_type": "code",
   "execution_count": 12,
   "metadata": {},
   "outputs": [
    {
     "name": "stderr",
     "output_type": "stream",
     "text": [
      "Downloading: 100%|██████████| 298/298 [00:00<00:00, 1819.75rows/s]\n"
     ]
    },
    {
     "data": {
      "text/html": [
       "<div>\n",
       "<style scoped>\n",
       "    .dataframe tbody tr th:only-of-type {\n",
       "        vertical-align: middle;\n",
       "    }\n",
       "\n",
       "    .dataframe tbody tr th {\n",
       "        vertical-align: top;\n",
       "    }\n",
       "\n",
       "    .dataframe thead th {\n",
       "        text-align: right;\n",
       "    }\n",
       "</style>\n",
       "<table border=\"1\" class=\"dataframe\">\n",
       "  <thead>\n",
       "    <tr style=\"text-align: right;\">\n",
       "      <th></th>\n",
       "      <th>month</th>\n",
       "      <th>pct</th>\n",
       "      <th>list_size</th>\n",
       "    </tr>\n",
       "  </thead>\n",
       "  <tbody>\n",
       "    <tr>\n",
       "      <th>0</th>\n",
       "      <td>2015-01-01</td>\n",
       "      <td>None</td>\n",
       "      <td>0</td>\n",
       "    </tr>\n",
       "    <tr>\n",
       "      <th>1</th>\n",
       "      <td>2015-01-01</td>\n",
       "      <td>00C</td>\n",
       "      <td>106673</td>\n",
       "    </tr>\n",
       "    <tr>\n",
       "      <th>2</th>\n",
       "      <td>2015-01-01</td>\n",
       "      <td>00D</td>\n",
       "      <td>288824</td>\n",
       "    </tr>\n",
       "    <tr>\n",
       "      <th>3</th>\n",
       "      <td>2015-01-01</td>\n",
       "      <td>00F</td>\n",
       "      <td>207011</td>\n",
       "    </tr>\n",
       "    <tr>\n",
       "      <th>4</th>\n",
       "      <td>2015-01-01</td>\n",
       "      <td>00G</td>\n",
       "      <td>163290</td>\n",
       "    </tr>\n",
       "    <tr>\n",
       "      <th>5</th>\n",
       "      <td>2015-01-01</td>\n",
       "      <td>00H</td>\n",
       "      <td>135799</td>\n",
       "    </tr>\n",
       "    <tr>\n",
       "      <th>6</th>\n",
       "      <td>2015-01-01</td>\n",
       "      <td>00J</td>\n",
       "      <td>252951</td>\n",
       "    </tr>\n",
       "    <tr>\n",
       "      <th>7</th>\n",
       "      <td>2015-01-01</td>\n",
       "      <td>00K</td>\n",
       "      <td>293006</td>\n",
       "    </tr>\n",
       "    <tr>\n",
       "      <th>8</th>\n",
       "      <td>2015-01-01</td>\n",
       "      <td>00L</td>\n",
       "      <td>322094</td>\n",
       "    </tr>\n",
       "    <tr>\n",
       "      <th>9</th>\n",
       "      <td>2015-01-01</td>\n",
       "      <td>00M</td>\n",
       "      <td>291290</td>\n",
       "    </tr>\n",
       "  </tbody>\n",
       "</table>\n",
       "</div>"
      ],
      "text/plain": [
       "       month   pct  list_size\n",
       "0 2015-01-01  None          0\n",
       "1 2015-01-01   00C     106673\n",
       "2 2015-01-01   00D     288824\n",
       "3 2015-01-01   00F     207011\n",
       "4 2015-01-01   00G     163290\n",
       "5 2015-01-01   00H     135799\n",
       "6 2015-01-01   00J     252951\n",
       "7 2015-01-01   00K     293006\n",
       "8 2015-01-01   00L     322094\n",
       "9 2015-01-01   00M     291290"
      ]
     },
     "execution_count": 12,
     "metadata": {},
     "output_type": "execute_result"
    }
   ],
   "source": [
    "# get data for patient list size (all patients)\n",
    "sql2 = \"\"\"\n",
    "SELECT month, pct_id AS pct, sum(total_list_size) as list_size\n",
    "FROM ebmdatalab.hscic.practice_statistics\n",
    "WHERE\n",
    "month <= \"2015-01-01\"\n",
    "group by \n",
    "month, pct\n",
    "order by\n",
    "month, pct\n",
    "\"\"\"\n",
    "listsize_df = bq.cached_read(sql2, csv_path=os.path.join('..', 'data','list_size.csv'))\n",
    "listsize_df['month'] = listsize_df['month'].astype('datetime64[ns]')\n",
    "listsize_df.head(10)\n"
   ]
  },
  {
   "cell_type": "code",
   "execution_count": null,
   "metadata": {},
   "outputs": [],
   "source": []
  }
 ],
 "metadata": {
  "jupytext": {
   "cell_metadata_filter": "all",
   "notebook_metadata_filter": "all,-language_info",
   "text_representation": {
    "extension": ".py",
    "format_name": "light",
    "format_version": "1.5",
    "jupytext_version": "1.3.3"
   }
  },
  "kernelspec": {
   "display_name": "Python 3",
   "language": "python",
   "name": "python3"
  },
  "language_info": {
   "codemirror_mode": {
    "name": "ipython",
    "version": 3
   },
   "file_extension": ".py",
   "mimetype": "text/x-python",
   "name": "python",
   "nbconvert_exporter": "python",
   "pygments_lexer": "ipython3",
   "version": "3.8.1"
  }
 },
 "nbformat": 4,
 "nbformat_minor": 4
}
